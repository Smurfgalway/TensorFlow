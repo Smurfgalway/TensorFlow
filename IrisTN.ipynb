{
 "cells": [
  {
   "cell_type": "markdown",
   "metadata": {},
   "source": [
    "# Emerging Technologies Problem Sheet 4: Tensorfow\n",
    "\n",
    "## This code has been adapted from https://github.com/emerging-technologies/keras-iris/blob/master/iris_nn.py\n",
    "\n",
    "### Questions below provided from the Emerging technologies Github [Problem sheet](https://github.com/emerging-technologies/emerging-technologies.github.io/blob/master/problems/tensorflow.md)"
   ]
  },
  {
   "cell_type": "markdown",
   "metadata": {},
   "source": [
    "# 1. Use Tensorflow to create model\n",
    "    Use Tensorflow to create a model to predict the species of Iris from a flower's sepal width, sepal length, petal width, and petal length."
   ]
  },
  {
   "cell_type": "code",
   "execution_count": 37,
   "metadata": {
    "collapsed": true
   },
   "outputs": [],
   "source": [
    "import csv #this imports the csv reader as the Iris data set is contained in a csv in my directory\n",
    "import numpy as np #imports the numpy library for arrays\n",
    "import keras as kr #This imports keras. keras runs on top of tensorflow for creating a high level neural netowrk"
   ]
  },
  {
   "cell_type": "markdown",
   "metadata": {},
   "source": [
    "## This step loads the data from the [Iris data set](https://en.wikipedia.org/wiki/Iris_flower_data_set)."
   ]
  },
  {
   "cell_type": "code",
   "execution_count": 38,
   "metadata": {
    "collapsed": true
   },
   "outputs": [],
   "source": [
    "iris = list(csv.reader(open('iris.csv')))[1:]  #the csv reader for the Iris data set"
   ]
  },
  {
   "cell_type": "markdown",
   "metadata": {},
   "source": [
    "## The 4 float inputs are: sepal length, sepal width, petal length, petal width."
   ]
  },
  {
   "cell_type": "code",
   "execution_count": 39,
   "metadata": {
    "collapsed": true
   },
   "outputs": [],
   "source": [
    "inputs  = np.array(iris)[:,:4].astype(np.float)"
   ]
  },
  {
   "cell_type": "markdown",
   "metadata": {},
   "source": [
    "## Initially outputs as individual strings: setosa, versicolor or virginica."
   ]
  },
  {
   "cell_type": "code",
   "execution_count": 40,
   "metadata": {
    "collapsed": true
   },
   "outputs": [],
   "source": [
    "outputs = np.array(iris)[:,4]"
   ]
  },
  {
   "cell_type": "markdown",
   "metadata": {},
   "source": [
    "## Converts the outputs to ints."
   ]
  },
  {
   "cell_type": "code",
   "execution_count": 41,
   "metadata": {
    "collapsed": true
   },
   "outputs": [],
   "source": [
    "outputs_vals, outputs_ints = np.unique(outputs, return_inverse=True)"
   ]
  },
  {
   "cell_type": "markdown",
   "metadata": {},
   "source": [
    "## Encode the category integers as binary categorical vairables."
   ]
  },
  {
   "cell_type": "code",
   "execution_count": 42,
   "metadata": {
    "collapsed": true
   },
   "outputs": [],
   "source": [
    "outputs_cats = kr.utils.to_categorical(outputs_ints)"
   ]
  },
  {
   "cell_type": "markdown",
   "metadata": {},
   "source": [
    "# 2. Split the data into training and testing\n",
    "    Split the data set into a training set and a testing set. You should investigate the best way to do this, and list any online references used in your notebook. If you wish to, you can write some code to randomly separate the data on the fly."
   ]
  },
  {
   "cell_type": "markdown",
   "metadata": {},
   "source": [
    "## Split the input and output data sets into training and test subsets."
   ]
  },
  {
   "cell_type": "code",
   "execution_count": 43,
   "metadata": {
    "collapsed": true
   },
   "outputs": [],
   "source": [
    "inds = np.random.permutation(len(inputs))\n",
    "train_inds, test_inds = np.array_split(inds, 2)\n",
    "inputs_train, outputs_train = inputs[train_inds], outputs_cats[train_inds]\n",
    "inputs_test,  outputs_test  = inputs[test_inds],  outputs_cats[test_inds]"
   ]
  },
  {
   "cell_type": "markdown",
   "metadata": {},
   "source": [
    "## Using [Keras](https://keras.io/) to create a neural network "
   ]
  },
  {
   "cell_type": "code",
   "execution_count": 44,
   "metadata": {
    "collapsed": true
   },
   "outputs": [],
   "source": [
    "model = kr.models.Sequential()"
   ]
  },
  {
   "cell_type": "markdown",
   "metadata": {},
   "source": [
    "## Add an initial layer with 4 input nodes, and a hidden layer with 16 nodes."
   ]
  },
  {
   "cell_type": "code",
   "execution_count": 45,
   "metadata": {
    "collapsed": true
   },
   "outputs": [],
   "source": [
    "model.add(kr.layers.Dense(16, input_shape=(4,)))"
   ]
  },
  {
   "cell_type": "markdown",
   "metadata": {},
   "source": [
    "## Apply the sigmoid activation function to that layer."
   ]
  },
  {
   "cell_type": "code",
   "execution_count": 46,
   "metadata": {
    "collapsed": true
   },
   "outputs": [],
   "source": [
    "model.add(kr.layers.Activation(\"sigmoid\"))"
   ]
  },
  {
   "cell_type": "markdown",
   "metadata": {},
   "source": [
    "## Add another layer, connected to the layer with 16 nodes, containing three output nodes."
   ]
  },
  {
   "cell_type": "code",
   "execution_count": 47,
   "metadata": {
    "collapsed": true
   },
   "outputs": [],
   "source": [
    "model.add(kr.layers.Dense(3))"
   ]
  },
  {
   "cell_type": "markdown",
   "metadata": {},
   "source": [
    "## Use the softmax activation function there."
   ]
  },
  {
   "cell_type": "code",
   "execution_count": 48,
   "metadata": {
    "collapsed": true
   },
   "outputs": [],
   "source": [
    "model.add(kr.layers.Activation(\"softmax\"))"
   ]
  },
  {
   "cell_type": "markdown",
   "metadata": {},
   "source": [
    "# 3. Train the model\n",
    "\n",
    "    Use the testing set to train your model."
   ]
  },
  {
   "cell_type": "markdown",
   "metadata": {},
   "source": [
    "## Configure the model for training.\n",
    "## Uses the adam optimizer and categorical cross entropy as the loss function.\n",
    "## Add in some extra metrics - accuracy being the only one."
   ]
  },
  {
   "cell_type": "code",
   "execution_count": 49,
   "metadata": {
    "collapsed": true
   },
   "outputs": [],
   "source": [
    "model.compile(optimizer=\"adam\", loss=\"categorical_crossentropy\", metrics=[\"accuracy\"])"
   ]
  },
  {
   "cell_type": "markdown",
   "metadata": {},
   "source": [
    "## Use our training data to fit the model."
   ]
  },
  {
   "cell_type": "code",
   "execution_count": 50,
   "metadata": {},
   "outputs": [
    {
     "name": "stdout",
     "output_type": "stream",
     "text": [
      "Epoch 1/100\n",
      "75/75 [==============================] - 0s - loss: 1.1070 - acc: 0.4933      \n",
      "Epoch 2/100\n",
      "75/75 [==============================] - 0s - loss: 1.0082 - acc: 0.4933     \n",
      "Epoch 3/100\n",
      "75/75 [==============================] - 0s - loss: 0.9596 - acc: 0.6667     \n",
      "Epoch 4/100\n",
      "75/75 [==============================] - 0s - loss: 0.9123 - acc: 0.7200     \n",
      "Epoch 5/100\n",
      "75/75 [==============================] - 0s - loss: 0.8626 - acc: 0.7200      \n",
      "Epoch 6/100\n",
      "75/75 [==============================] - 0s - loss: 0.8155 - acc: 0.7200     \n",
      "Epoch 7/100\n",
      "75/75 [==============================] - 0s - loss: 0.7684 - acc: 0.7200     \n",
      "Epoch 8/100\n",
      "75/75 [==============================] - 0s - loss: 0.7257 - acc: 0.7200     \n",
      "Epoch 9/100\n",
      "75/75 [==============================] - 0s - loss: 0.6869 - acc: 0.7200     \n",
      "Epoch 10/100\n",
      "75/75 [==============================] - 0s - loss: 0.6524 - acc: 0.7200     \n",
      "Epoch 11/100\n",
      "75/75 [==============================] - 0s - loss: 0.6285 - acc: 0.7200      \n",
      "Epoch 12/100\n",
      "75/75 [==============================] - 0s - loss: 0.6017 - acc: 0.7200     \n",
      "Epoch 13/100\n",
      "75/75 [==============================] - 0s - loss: 0.5794 - acc: 0.7200     \n",
      "Epoch 14/100\n",
      "75/75 [==============================] - 0s - loss: 0.5619 - acc: 0.7200      \n",
      "Epoch 15/100\n",
      "75/75 [==============================] - 0s - loss: 0.5425 - acc: 0.7200      \n",
      "Epoch 16/100\n",
      "75/75 [==============================] - 0s - loss: 0.5272 - acc: 0.7467     \n",
      "Epoch 17/100\n",
      "75/75 [==============================] - 0s - loss: 0.5150 - acc: 0.7333     \n",
      "Epoch 18/100\n",
      "75/75 [==============================] - 0s - loss: 0.5005 - acc: 0.7600     \n",
      "Epoch 19/100\n",
      "75/75 [==============================] - 0s - loss: 0.4880 - acc: 0.7600     \n",
      "Epoch 20/100\n",
      "75/75 [==============================] - 0s - loss: 0.4778 - acc: 0.7467     \n",
      "Epoch 21/100\n",
      "75/75 [==============================] - 0s - loss: 0.4736 - acc: 0.8000      \n",
      "Epoch 22/100\n",
      "75/75 [==============================] - 0s - loss: 0.4596 - acc: 0.7600     \n",
      "Epoch 23/100\n",
      "75/75 [==============================] - 0s - loss: 0.4464 - acc: 0.7867     \n",
      "Epoch 24/100\n",
      "75/75 [==============================] - 0s - loss: 0.4396 - acc: 0.8267     \n",
      "Epoch 25/100\n",
      "75/75 [==============================] - 0s - loss: 0.4316 - acc: 0.8267     \n",
      "Epoch 26/100\n",
      "75/75 [==============================] - 0s - loss: 0.4214 - acc: 0.8800     \n",
      "Epoch 27/100\n",
      "75/75 [==============================] - 0s - loss: 0.4183 - acc: 0.9200     \n",
      "Epoch 28/100\n",
      "75/75 [==============================] - 0s - loss: 0.4068 - acc: 0.8267     \n",
      "Epoch 29/100\n",
      "75/75 [==============================] - 0s - loss: 0.3980 - acc: 0.8800     \n",
      "Epoch 30/100\n",
      "75/75 [==============================] - 0s - loss: 0.3905 - acc: 0.8667     \n",
      "Epoch 31/100\n",
      "75/75 [==============================] - 0s - loss: 0.3842 - acc: 0.9200     \n",
      "Epoch 32/100\n",
      "75/75 [==============================] - 0s - loss: 0.3791 - acc: 0.9067     \n",
      "Epoch 33/100\n",
      "75/75 [==============================] - 0s - loss: 0.3667 - acc: 0.9333      \n",
      "Epoch 34/100\n",
      "75/75 [==============================] - 0s - loss: 0.3595 - acc: 0.8933     \n",
      "Epoch 35/100\n",
      "75/75 [==============================] - 0s - loss: 0.3545 - acc: 0.9600     \n",
      "Epoch 36/100\n",
      "75/75 [==============================] - 0s - loss: 0.3473 - acc: 0.9467     \n",
      "Epoch 37/100\n",
      "75/75 [==============================] - 0s - loss: 0.3400 - acc: 0.9200     \n",
      "Epoch 38/100\n",
      "75/75 [==============================] - 0s - loss: 0.3346 - acc: 0.9467     \n",
      "Epoch 39/100\n",
      "75/75 [==============================] - 0s - loss: 0.3271 - acc: 0.9467     \n",
      "Epoch 40/100\n",
      "75/75 [==============================] - 0s - loss: 0.3215 - acc: 0.9467     \n",
      "Epoch 41/100\n",
      "75/75 [==============================] - 0s - loss: 0.3171 - acc: 0.9600     \n",
      "Epoch 42/100\n",
      "75/75 [==============================] - 0s - loss: 0.3121 - acc: 0.9467     \n",
      "Epoch 43/100\n",
      "75/75 [==============================] - 0s - loss: 0.3017 - acc: 0.9600     \n",
      "Epoch 44/100\n",
      "75/75 [==============================] - 0s - loss: 0.2953 - acc: 0.9600     - ETA: 0s - loss: 0.2918 - acc: 0.959\n",
      "Epoch 45/100\n",
      "75/75 [==============================] - 0s - loss: 0.2907 - acc: 0.9600     \n",
      "Epoch 46/100\n",
      "75/75 [==============================] - 0s - loss: 0.2853 - acc: 0.9600     \n",
      "Epoch 47/100\n",
      "75/75 [==============================] - 0s - loss: 0.2793 - acc: 0.9467     \n",
      "Epoch 48/100\n",
      "75/75 [==============================] - 0s - loss: 0.2731 - acc: 0.9600     \n",
      "Epoch 49/100\n",
      "75/75 [==============================] - 0s - loss: 0.2668 - acc: 0.9733     \n",
      "Epoch 50/100\n",
      "75/75 [==============================] - 0s - loss: 0.2652 - acc: 0.9600     \n",
      "Epoch 51/100\n",
      "75/75 [==============================] - 0s - loss: 0.2587 - acc: 0.9467     \n",
      "Epoch 52/100\n",
      "75/75 [==============================] - 0s - loss: 0.2526 - acc: 0.9467     \n",
      "Epoch 53/100\n",
      "75/75 [==============================] - 0s - loss: 0.2479 - acc: 0.9600     \n",
      "Epoch 54/100\n",
      "75/75 [==============================] - 0s - loss: 0.2462 - acc: 0.9600     \n",
      "Epoch 55/100\n",
      "75/75 [==============================] - 0s - loss: 0.2385 - acc: 0.9600     \n",
      "Epoch 56/100\n",
      "75/75 [==============================] - 0s - loss: 0.2324 - acc: 0.9600     \n",
      "Epoch 57/100\n",
      "75/75 [==============================] - 0s - loss: 0.2282 - acc: 0.9600     \n",
      "Epoch 58/100\n",
      "75/75 [==============================] - 0s - loss: 0.2254 - acc: 0.9733     \n",
      "Epoch 59/100\n",
      "75/75 [==============================] - 0s - loss: 0.2206 - acc: 0.9600     \n",
      "Epoch 60/100\n",
      "75/75 [==============================] - 0s - loss: 0.2184 - acc: 0.9733     \n",
      "Epoch 61/100\n",
      "75/75 [==============================] - 0s - loss: 0.2107 - acc: 0.9600     \n",
      "Epoch 62/100\n",
      "75/75 [==============================] - 0s - loss: 0.2076 - acc: 0.9600     \n",
      "Epoch 63/100\n",
      "75/75 [==============================] - 0s - loss: 0.2023 - acc: 0.9600     \n",
      "Epoch 64/100\n",
      "75/75 [==============================] - 0s - loss: 0.2016 - acc: 0.9733     \n",
      "Epoch 65/100\n",
      "75/75 [==============================] - 0s - loss: 0.1957 - acc: 0.9733     \n",
      "Epoch 66/100\n",
      "75/75 [==============================] - 0s - loss: 0.1929 - acc: 0.9600     \n",
      "Epoch 67/100\n",
      "75/75 [==============================] - 0s - loss: 0.1897 - acc: 0.9600     \n",
      "Epoch 68/100\n",
      "75/75 [==============================] - 0s - loss: 0.1855 - acc: 0.9733     \n",
      "Epoch 69/100\n",
      "75/75 [==============================] - 0s - loss: 0.1814 - acc: 0.9600     \n",
      "Epoch 70/100\n",
      "75/75 [==============================] - 0s - loss: 0.1791 - acc: 0.9733     \n",
      "Epoch 71/100\n",
      "75/75 [==============================] - 0s - loss: 0.1782 - acc: 0.9600     \n",
      "Epoch 72/100\n",
      "75/75 [==============================] - 0s - loss: 0.1745 - acc: 0.9733     \n",
      "Epoch 73/100\n",
      "75/75 [==============================] - 0s - loss: 0.1707 - acc: 0.9733     \n",
      "Epoch 74/100\n",
      "75/75 [==============================] - 0s - loss: 0.1660 - acc: 0.9867     \n",
      "Epoch 75/100\n",
      "75/75 [==============================] - 0s - loss: 0.1651 - acc: 0.9733     \n",
      "Epoch 76/100\n",
      "75/75 [==============================] - 0s - loss: 0.1605 - acc: 0.9733     \n",
      "Epoch 77/100\n",
      "75/75 [==============================] - 0s - loss: 0.1573 - acc: 0.9867     \n",
      "Epoch 78/100\n",
      "75/75 [==============================] - 0s - loss: 0.1583 - acc: 0.9600     \n",
      "Epoch 79/100\n",
      "75/75 [==============================] - 0s - loss: 0.1548 - acc: 0.9733     \n",
      "Epoch 80/100\n",
      "75/75 [==============================] - 0s - loss: 0.1513 - acc: 0.9733     \n",
      "Epoch 81/100\n",
      "75/75 [==============================] - 0s - loss: 0.1466 - acc: 0.9733     \n",
      "Epoch 82/100\n",
      "75/75 [==============================] - 0s - loss: 0.1502 - acc: 0.9733     \n",
      "Epoch 83/100\n",
      "75/75 [==============================] - 0s - loss: 0.1434 - acc: 0.9733     \n",
      "Epoch 84/100\n",
      "75/75 [==============================] - 0s - loss: 0.1412 - acc: 0.9733     \n",
      "Epoch 85/100\n",
      "75/75 [==============================] - 0s - loss: 0.1420 - acc: 0.9733     \n",
      "Epoch 86/100\n",
      "75/75 [==============================] - 0s - loss: 0.1403 - acc: 0.9733     \n",
      "Epoch 87/100\n",
      "75/75 [==============================] - 0s - loss: 0.1354 - acc: 0.9733     \n",
      "Epoch 88/100\n",
      "75/75 [==============================] - 0s - loss: 0.1361 - acc: 0.9733     \n",
      "Epoch 89/100\n",
      "75/75 [==============================] - 0s - loss: 0.1337 - acc: 0.9733     \n",
      "Epoch 90/100\n",
      "75/75 [==============================] - 0s - loss: 0.1281 - acc: 0.9733     \n",
      "Epoch 91/100\n",
      "75/75 [==============================] - 0s - loss: 0.1281 - acc: 0.9600     \n",
      "Epoch 92/100\n",
      "75/75 [==============================] - 0s - loss: 0.1276 - acc: 0.9733     \n",
      "Epoch 93/100\n",
      "75/75 [==============================] - 0s - loss: 0.1265 - acc: 0.9733     \n",
      "Epoch 94/100\n",
      "75/75 [==============================] - 0s - loss: 0.1221 - acc: 0.9733     \n",
      "Epoch 95/100\n",
      "75/75 [==============================] - 0s - loss: 0.1207 - acc: 0.9867     \n",
      "Epoch 96/100\n",
      "75/75 [==============================] - 0s - loss: 0.1184 - acc: 0.9733     \n",
      "Epoch 97/100\n",
      "75/75 [==============================] - 0s - loss: 0.1170 - acc: 0.9733     \n",
      "Epoch 98/100\n",
      "75/75 [==============================] - 0s - loss: 0.1155 - acc: 0.9733     \n",
      "Epoch 99/100\n",
      "75/75 [==============================] - 0s - loss: 0.1150 - acc: 0.9733     \n",
      "Epoch 100/100\n",
      "75/75 [==============================] - 0s - loss: 0.1130 - acc: 0.9733     \n"
     ]
    },
    {
     "data": {
      "text/plain": [
       "<keras.callbacks.History at 0x165a757eda0>"
      ]
     },
     "execution_count": 50,
     "metadata": {},
     "output_type": "execute_result"
    }
   ],
   "source": [
    "model.fit(inputs_train, outputs_train, epochs=100, batch_size=1, verbose=1)"
   ]
  },
  {
   "cell_type": "markdown",
   "metadata": {},
   "source": [
    "# 4. Test the model\n",
    "\n",
    "    Use the testing set to test your model, clearly calculating and displaying the error rate."
   ]
  },
  {
   "cell_type": "markdown",
   "metadata": {},
   "source": [
    "## Use the test data set to evaluate the model."
   ]
  },
  {
   "cell_type": "code",
   "execution_count": 51,
   "metadata": {},
   "outputs": [
    {
     "name": "stdout",
     "output_type": "stream",
     "text": [
      "\r",
      "32/75 [===========>..................] - ETA: 0s"
     ]
    }
   ],
   "source": [
    "loss, accuracy = model.evaluate(inputs_test, outputs_test, verbose=1)"
   ]
  },
  {
   "cell_type": "markdown",
   "metadata": {},
   "source": [
    "## Output the accuracy of the model."
   ]
  },
  {
   "cell_type": "code",
   "execution_count": 52,
   "metadata": {},
   "outputs": [
    {
     "name": "stdout",
     "output_type": "stream",
     "text": [
      "\n",
      "\n",
      "Loss: 0.1402\tAccuracy: 0.9600\n"
     ]
    }
   ],
   "source": [
    "print(\"\\n\\nLoss: %6.4f\\tAccuracy: %6.4f\" % (loss, accuracy))"
   ]
  },
  {
   "cell_type": "markdown",
   "metadata": {},
   "source": [
    "## Predict the class of a single flower."
   ]
  },
  {
   "cell_type": "code",
   "execution_count": 53,
   "metadata": {},
   "outputs": [
    {
     "name": "stdout",
     "output_type": "stream",
     "text": [
      "Actual: [0 1 0]\tEstimated: [0 1 0]\n",
      "That means it's a versicolor\n"
     ]
    }
   ],
   "source": [
    "prediction = np.around(model.predict(np.expand_dims(inputs_test[0], axis=0))).astype(np.int)[0]\n",
    "print(\"Actual: %s\\tEstimated: %s\" % (outputs_test[0].astype(np.int), prediction))\n",
    "print(\"That means it's a %s\" % outputs_vals[prediction.astype(np.bool)][0])"
   ]
  },
  {
   "cell_type": "markdown",
   "metadata": {},
   "source": [
    "## Save the model to a file for later use."
   ]
  },
  {
   "cell_type": "code",
   "execution_count": 54,
   "metadata": {
    "collapsed": true
   },
   "outputs": [],
   "source": [
    "model.save(\"iris_nn.h5\") #saves the file in the directory as \"iris_nn.h5\"\n",
    "## Load the model again with: model = load_model(\"iris_nn.h5\")"
   ]
  },
  {
   "cell_type": "code",
   "execution_count": null,
   "metadata": {
    "collapsed": true
   },
   "outputs": [],
   "source": []
  }
 ],
 "metadata": {
  "kernelspec": {
   "display_name": "Python 3",
   "language": "python",
   "name": "python3"
  },
  "language_info": {
   "codemirror_mode": {
    "name": "ipython",
    "version": 3
   },
   "file_extension": ".py",
   "mimetype": "text/x-python",
   "name": "python",
   "nbconvert_exporter": "python",
   "pygments_lexer": "ipython3",
   "version": "3.6.3"
  }
 },
 "nbformat": 4,
 "nbformat_minor": 2
}
